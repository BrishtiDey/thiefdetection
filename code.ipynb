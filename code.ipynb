{
 "cells": [
  {
   "cell_type": "code",
   "id": "initial_id",
   "metadata": {
    "collapsed": true,
    "ExecuteTime": {
     "end_time": "2024-07-08T15:28:26.483693Z",
     "start_time": "2024-07-08T15:27:37.492422Z"
    }
   },
   "source": [
    "import cv2  # Import the OpenCV library for video processing.\n",
    "import pyttsx3  # Import pyttsx3 for text-to-speech functionality.\n",
    "import threading  # Import threading for running the alarm message in a separate thread.\n",
    "\n",
    "# Create a list to store the motion detection status for the current and previous frame.\n",
    "status_list = [None, None]\n",
    "\n",
    "# Initialize the text-to-speech engine.\n",
    "alarm_sound = pyttsx3.init()\n",
    "\n",
    "# Get the available voices and set the preferred voice and speech rate.\n",
    "voices = alarm_sound.getProperty('voices')\n",
    "alarm_sound.setProperty('voice', voices[0].id)\n",
    "alarm_sound.setProperty('rate', 150)\n",
    "\n",
    "# Define a function for the voice alarm.\n",
    "def voice_alarm(alarm_sound):\n",
    "    alarm_sound.say(\"Thief Detected\")  # Set the text to be spoken.\n",
    "    alarm_sound.runAndWait()  # Execute the voice alarm.\n",
    "\n",
    "# Open a video file for processing. In this case, \"theifs.mp4\".\n",
    "video = cv2.VideoCapture(\"theifs.mp4\")\n",
    "\n",
    "# Initialize a variable to store the initial frame for motion detection.\n",
    "initial_frame = None\n",
    "\n",
    "# Start a loop to process video frames.\n",
    "while True:\n",
    "    # Read the next frame from the video.\n",
    "    check, frame = video.read()\n",
    "    \n",
    "    # Initialize a variable to count the number of objects in motion.\n",
    "    status = 0\n",
    "\n",
    "    # Convert the current frame to grayscale.\n",
    "    gray_frame = cv2.cvtColor(frame, cv2.COLOR_BGR2GRAY)\n",
    "\n",
    "    # Apply Gaussian blur and smoothing to the grayscale frame to reduce noise.\n",
    "    gray_frame = cv2.GaussianBlur(gray_frame, (25, 25), 0)\n",
    "    blur_frame = cv2.blur(gray_frame, (5, 5))\n",
    "    \n",
    "    # Check if it's the initial frame (the first frame).\n",
    "    if initial_frame is None:\n",
    "        initial_frame = blur_frame\n",
    "        continue\n",
    "\n",
    "    # Calculate the absolute difference between the initial frame and the current frame.\n",
    "    delta_frame = cv2.absdiff(initial_frame, blur_frame)\n",
    "\n",
    "    # Apply a threshold to the difference frame to create a binary image that highlights changes.\n",
    "    threshold_frame = cv2.threshold(delta_frame, 35, 255, cv2.THRESH_BINARY)[1]\n",
    "\n",
    "    # Find contours in the binary image to detect objects.\n",
    "    (contours, _) = cv2.findContours(threshold_frame, cv2.RETR_EXTERNAL, cv2.CHAIN_APPROX_SIMPLE)\n",
    "\n",
    "    # Loop through the detected contours.\n",
    "    for c in contours:\n",
    "        # If the contour area is less than 5000, it's considered noise and skipped.\n",
    "        if cv2.contourArea(c) < 5000:\n",
    "            continue\n",
    "        # Increment the status count for detected objects.\n",
    "        status = status + 1\n",
    "        # Get the coordinates and dimensions of the bounding rectangle around the object.\n",
    "        (x, y, w, h) = cv2.boundingRect(c)\n",
    "        # Draw a green rectangle around the detected object on the current frame.\n",
    "        cv2.rectangle(frame, (x, y), (x + w, y + h), (0, 255, 0), 1)\n",
    "\n",
    "    # Append the current status to the status list.\n",
    "    status_list.append(status)\n",
    "\n",
    "    # Check if the current status is 1 (indicating motion) and the previous status was 0 (indicating no motion).\n",
    "    if status_list[-1] >= 1 and status_list[-2] == 0:\n",
    "        # Start a separate thread to run the voice alarm function.\n",
    "        alarm = threading.Thread(target=voice_alarm, args=(alarm_sound,))\n",
    "        alarm.start()\n",
    "\n",
    "    # Display the current frame with rectangles drawn around detected objects.\n",
    "    cv2.imshow('motion detector', frame)\n",
    "\n",
    "    # Check for the 'q' key press to exit the loop.\n",
    "    key = cv2.waitKey(1)\n",
    "    if key == ord('q'):\n",
    "        break\n",
    "\n",
    "# Stop the voice alarm and release the video file.\n",
    "alarm_sound.stop()\n",
    "video.release()\n",
    "\n",
    "# Close all OpenCV windows and finish the program.\n",
    "cv2.destroyAllWindows()\n"
   ],
   "outputs": [
    {
     "name": "stderr",
     "output_type": "stream",
     "text": [
      "Exception in thread Thread-7 (voice_alarm):\n",
      "Traceback (most recent call last):\n",
      "  File \"C:\\Users\\brish\\anaconda3\\lib\\threading.py\", line 1016, in _bootstrap_inner\n",
      "    self.run()\n",
      "  File \"C:\\Users\\brish\\anaconda3\\lib\\threading.py\", line 953, in run\n",
      "    self._target(*self._args, **self._kwargs)\n",
      "  File \"C:\\Users\\brish\\AppData\\Local\\Temp\\ipykernel_18664\\3413035849.py\", line 19, in voice_alarm\n",
      "  File \"C:\\Users\\brish\\anaconda3\\lib\\site-packages\\pyttsx3\\engine.py\", line 177, in runAndWait\n",
      "    raise RuntimeError('run loop already started')\n",
      "RuntimeError: run loop already started\n",
      "Exception in thread Thread-8 (voice_alarm):\n",
      "Traceback (most recent call last):\n",
      "  File \"C:\\Users\\brish\\anaconda3\\lib\\threading.py\", line 1016, in _bootstrap_inner\n",
      "    self.run()\n",
      "  File \"C:\\Users\\brish\\anaconda3\\lib\\threading.py\", line 953, in run\n",
      "    self._target(*self._args, **self._kwargs)\n",
      "  File \"C:\\Users\\brish\\AppData\\Local\\Temp\\ipykernel_18664\\3413035849.py\", line 19, in voice_alarm\n",
      "  File \"C:\\Users\\brish\\anaconda3\\lib\\site-packages\\pyttsx3\\engine.py\", line 177, in runAndWait\n",
      "    raise RuntimeError('run loop already started')\n",
      "RuntimeError: run loop already started\n",
      "Exception in thread Thread-9 (voice_alarm):\n",
      "Traceback (most recent call last):\n",
      "  File \"C:\\Users\\brish\\anaconda3\\lib\\threading.py\", line 1016, in _bootstrap_inner\n",
      "    self.run()\n",
      "  File \"C:\\Users\\brish\\anaconda3\\lib\\threading.py\", line 953, in run\n",
      "    self._target(*self._args, **self._kwargs)\n",
      "  File \"C:\\Users\\brish\\AppData\\Local\\Temp\\ipykernel_18664\\3413035849.py\", line 19, in voice_alarm\n",
      "  File \"C:\\Users\\brish\\anaconda3\\lib\\site-packages\\pyttsx3\\engine.py\", line 177, in runAndWait\n",
      "    raise RuntimeError('run loop already started')\n",
      "RuntimeError: run loop already started\n"
     ]
    },
    {
     "ename": "error",
     "evalue": "OpenCV(4.8.1) D:\\a\\opencv-python\\opencv-python\\opencv\\modules\\imgproc\\src\\color.cpp:182: error: (-215:Assertion failed) !_src.empty() in function 'cv::cvtColor'\n",
     "output_type": "error",
     "traceback": [
      "\u001B[1;31m---------------------------------------------------------------------------\u001B[0m",
      "\u001B[1;31merror\u001B[0m                                     Traceback (most recent call last)",
      "Cell \u001B[1;32mIn[1], line 36\u001B[0m\n\u001B[0;32m     33\u001B[0m status \u001B[38;5;241m=\u001B[39m \u001B[38;5;241m0\u001B[39m\n\u001B[0;32m     35\u001B[0m \u001B[38;5;66;03m# Convert the current frame to grayscale.\u001B[39;00m\n\u001B[1;32m---> 36\u001B[0m gray_frame \u001B[38;5;241m=\u001B[39m \u001B[43mcv2\u001B[49m\u001B[38;5;241;43m.\u001B[39;49m\u001B[43mcvtColor\u001B[49m\u001B[43m(\u001B[49m\u001B[43mframe\u001B[49m\u001B[43m,\u001B[49m\u001B[43m \u001B[49m\u001B[43mcv2\u001B[49m\u001B[38;5;241;43m.\u001B[39;49m\u001B[43mCOLOR_BGR2GRAY\u001B[49m\u001B[43m)\u001B[49m\n\u001B[0;32m     38\u001B[0m \u001B[38;5;66;03m# Apply Gaussian blur and smoothing to the grayscale frame to reduce noise.\u001B[39;00m\n\u001B[0;32m     39\u001B[0m gray_frame \u001B[38;5;241m=\u001B[39m cv2\u001B[38;5;241m.\u001B[39mGaussianBlur(gray_frame, (\u001B[38;5;241m25\u001B[39m, \u001B[38;5;241m25\u001B[39m), \u001B[38;5;241m0\u001B[39m)\n",
      "\u001B[1;31merror\u001B[0m: OpenCV(4.8.1) D:\\a\\opencv-python\\opencv-python\\opencv\\modules\\imgproc\\src\\color.cpp:182: error: (-215:Assertion failed) !_src.empty() in function 'cv::cvtColor'\n"
     ]
    }
   ],
   "execution_count": 1
  },
  {
   "metadata": {
    "ExecuteTime": {
     "end_time": "2024-07-08T15:29:13.119350Z",
     "start_time": "2024-07-08T15:29:13.107257Z"
    }
   },
   "cell_type": "code",
   "source": "",
   "id": "438052f6e8d0c61",
   "outputs": [],
   "execution_count": 1
  },
  {
   "metadata": {},
   "cell_type": "code",
   "outputs": [],
   "execution_count": null,
   "source": "",
   "id": "b75caacb7fafa8d0"
  }
 ],
 "metadata": {
  "kernelspec": {
   "display_name": "Python 3",
   "language": "python",
   "name": "python3"
  },
  "language_info": {
   "codemirror_mode": {
    "name": "ipython",
    "version": 2
   },
   "file_extension": ".py",
   "mimetype": "text/x-python",
   "name": "python",
   "nbconvert_exporter": "python",
   "pygments_lexer": "ipython2",
   "version": "2.7.6"
  }
 },
 "nbformat": 4,
 "nbformat_minor": 5
}
